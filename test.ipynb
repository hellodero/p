{
 "cells": [
  {
   "cell_type": "code",
   "execution_count": null,
   "id": "67ac2c06",
   "metadata": {},
   "outputs": [],
   "source": [
    "import requests\n",
    "from IPython.display import Markdown, display\n",
    "\n",
    "r = requests.post(\"https://full-throtle.onrender.com/llama3\", json={\"prompt\":\"  \"})\n",
    "display(Markdown(r.json().get(\"response\",\"Error\")))"
   ]
  }
 ],
 "metadata": {
  "language_info": {
   "name": "python"
  }
 },
 "nbformat": 4,
 "nbformat_minor": 5
}
